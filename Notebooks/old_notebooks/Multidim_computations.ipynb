{
 "cells": [
  {
   "cell_type": "code",
   "execution_count": 1,
   "metadata": {},
   "outputs": [],
   "source": [
    "import os\n",
    "import sys\n",
    "import numpy as np\n",
    "import time\n",
    "import warnings\n",
    "\n",
    "# Define paths\n",
    "notebooks_path = os.path.abspath(os.getcwd()) \n",
    "src_path = os.path.abspath(os.path.join(notebooks_path, \"../src\"))\n",
    "if src_path not in sys.path:\n",
    "    sys.path.insert(0, src_path)\n",
    "\n",
    "# Import modules\n",
    "from Multi_dimension.Multidimension_trees import *\n",
    "from Multi_dimension.Multidimension_solver import *\n",
    "from Multi_dimension.Multidimension_adapted_empirical_measure import *\n",
    "\n",
    "from Measure_sampling.Gen_Path_and_AdaptedTrees import generate_adapted_tree\n",
    "from trees.Tree_Node import *\n",
    "from trees.TreeAnalysis import *\n",
    "from trees.TreeVisualization import *\n",
    "from trees.Save_Load_trees import *\n",
    "from trees.Tree_AWD_utilities import *\n",
    "from trees.Build_trees_from_paths import build_tree_from_paths\n",
    "\n",
    "from adapted_empirical_measure.AEM_grid import *\n",
    "from adapted_empirical_measure.AEM_kMeans import *\n",
    "from benchmark_value_gaussian.Comp_AWD2_Gaussian import *\n",
    "from awd_trees.Gurobi_AOT import *\n",
    "from awd_trees.Nested_Dist_Algo import compute_nested_distance, compute_nested_distance_parallel\n",
    "\n",
    "# Suppress warnings\n",
    "warnings.filterwarnings(\"ignore\", category=FutureWarning)\n",
    "warnings.filterwarnings(\"ignore\", category=UserWarning)"
   ]
  },
  {
   "cell_type": "markdown",
   "metadata": {},
   "source": [
    "### Generate Paths for d=1"
   ]
  },
  {
   "cell_type": "code",
   "execution_count": null,
   "metadata": {},
   "outputs": [],
   "source": [
    "# Normalization flag\n",
    "normalize = False\n",
    "\n",
    "# Define factor matrices\n",
    "L0 = np.array([[1, 0, 0, 0], [1, 2, 0, 0], [1, 2, 3, 0], [1,2,3, 4]])\n",
    "A0 = L0 @ L0.T\n",
    "L = L0 / np.sqrt(np.trace(A0)) if normalize else L0\n",
    "A = L @ L.T\n",
    "\n",
    "M0 = np.array([[1, 0, 0, 0], [2, 1, 0, 0], [3, 2, 1, 0], [4, 3, 2, 1]])\n",
    "B0 = M0 @ M0.T\n",
    "M = M0 / np.sqrt(np.trace(B0)) if normalize else M0\n",
    "B = M @ M.T\n",
    "\n",
    "# Parameters\n",
    "d = 1\n",
    "T = 4\n",
    "dim = d * T\n",
    "n_sample_plot = 2000\n",
    "\n",
    "# Generate all noise samples at once\n",
    "noise1 = np.random.normal(size=(n_sample_plot, dim))\n",
    "noise2 = np.random.normal(size=(n_sample_plot, dim))\n",
    "\n",
    "# Apply transformations\n",
    "X_increments = (noise1 @ L.T).reshape(n_sample_plot, T, d)\n",
    "Y_increments = (noise2 @ M.T).reshape(n_sample_plot, T, d)\n",
    "\n",
    "# Prepend zeros along the time axis\n",
    "X_paths = np.concatenate([np.zeros((n_sample_plot, 1, d)), X_increments], axis=1)\n",
    "Y_paths = np.concatenate([np.zeros((n_sample_plot, 1, d)), Y_increments], axis=1)"
   ]
  },
  {
   "cell_type": "markdown",
   "metadata": {},
   "source": [
    "### Compute Nested Distance (Multi-Dimensional Framework for $\\mathbb{R}^{1\\cdot T}$)"
   ]
  },
  {
   "cell_type": "code",
   "execution_count": null,
   "metadata": {},
   "outputs": [],
   "source": [
    "# Adapt empirical measures\n",
    "adapted_X, adapted_weights_X = multidim_uniform_empirical_grid_measure(X_paths, use_weights=True)\n",
    "adapted_Y, adapted_weights_Y = multidim_uniform_empirical_grid_measure(Y_paths, use_weights=True)\n",
    "\n",
    "# Build trees\n",
    "adapted_tree_1 = multidim_build_tree_from_paths(adapted_X, adapted_weights_X)\n",
    "adapted_tree_2 = multidim_build_tree_from_paths(adapted_Y, adapted_weights_Y)\n",
    "\n",
    "# Compute nested distance\n",
    "max_depth = multidim_get_depth(adapted_tree_1)\n",
    "start_time = time.time()\n",
    "distance_pot = multidim_compute_nested_distance(adapted_tree_1, adapted_tree_2, max_depth, power=2)\n",
    "end_time = time.time()\n",
    "\n",
    "print(\"Nested distance multi dim:\", distance_pot)\n",
    "print(\"Computation time: {:.4f} seconds\".format(end_time - start_time))"
   ]
  },
  {
   "cell_type": "markdown",
   "metadata": {},
   "source": [
    "### Compute Nested Distance (Original Code for $\\mathbb{R}^{T}$)"
   ]
  },
  {
   "cell_type": "code",
   "execution_count": null,
   "metadata": {},
   "outputs": [
    {
     "name": "stdout",
     "output_type": "stream",
     "text": [
      "Depth: 3\n"
     ]
    },
    {
     "name": "stderr",
     "output_type": "stream",
     "text": [
      "Parallel Depth 3: 100%|██████████| 12/12 [02:15<00:00, 11.30s/it]\n"
     ]
    },
    {
     "name": "stdout",
     "output_type": "stream",
     "text": [
      "Depth: 2\n"
     ]
    },
    {
     "name": "stderr",
     "output_type": "stream",
     "text": [
      "Parallel Depth 2: 100%|██████████| 12/12 [00:35<00:00,  2.95s/it]\n"
     ]
    },
    {
     "name": "stdout",
     "output_type": "stream",
     "text": [
      "Depth: 1\n"
     ]
    },
    {
     "name": "stderr",
     "output_type": "stream",
     "text": [
      "Parallel Depth 1: 100%|██████████| 12/12 [00:22<00:00,  1.89s/it]\n"
     ]
    },
    {
     "name": "stdout",
     "output_type": "stream",
     "text": [
      "Depth: 0\n"
     ]
    },
    {
     "name": "stderr",
     "output_type": "stream",
     "text": [
      "Parallel Depth 0: 100%|██████████| 12/12 [00:21<00:00,  1.82s/it]\n"
     ]
    },
    {
     "name": "stdout",
     "output_type": "stream",
     "text": [
      "Nested distance Parellel: 34.53504497054902\n",
      "Computation time Parellel: 242.1381 seconds\n"
     ]
    },
    {
     "name": "stderr",
     "output_type": "stream",
     "text": [
      "Depth 3: 100%|██████████| 1931/1931 [10:42<00:00,  3.01it/s]\n",
      "Depth 2: 100%|██████████| 692/692 [00:55<00:00, 12.37it/s]\n",
      "Depth 1: 100%|██████████| 31/31 [00:00<00:00, 120.90it/s]\n",
      "Depth 0: 100%|██████████| 1/1 [00:00<00:00, 1531.33it/s]"
     ]
    },
    {
     "name": "stdout",
     "output_type": "stream",
     "text": [
      "Nested distance single dim: 34.53504497054902\n",
      "Computation time: 699.0974 seconds\n"
     ]
    },
    {
     "name": "stderr",
     "output_type": "stream",
     "text": [
      "\n"
     ]
    }
   ],
   "source": [
    "# Adapt empirical measures\n",
    "X, Y = np.squeeze(X_paths, axis=-1), np.squeeze(Y_paths, axis=-1)\n",
    "adapted_X, adapted_weights_X = uniform_empirical_grid_measure(X, use_weights=True)\n",
    "adapted_Y, adapted_weights_Y = uniform_empirical_grid_measure(Y, use_weights=True)\n",
    "\n",
    "# Build trees\n",
    "adapted_tree_1 = build_tree_from_paths(adapted_X, adapted_weights_X)\n",
    "adapted_tree_2 = build_tree_from_paths(adapted_Y, adapted_weights_Y)\n",
    "\n",
    "# Compute nested distance\n",
    "max_depth = get_depth(adapted_tree_1)\n",
    "start_time = time.time()\n",
    "distance_pot = compute_nested_distance(adapted_tree_1, adapted_tree_2, max_depth, method=\"solver_lp_pot\", return_matrix=False, lambda_reg=0, power=2)\n",
    "elapsed_time_pot = time.time() - start_time\n",
    "\n",
    "print(\"Nested distance single dim:\", distance_pot)\n",
    "print(\"Computation time: {:.4f} seconds\".format(elapsed_time_pot))"
   ]
  },
  {
   "cell_type": "markdown",
   "metadata": {},
   "source": [
    "### Theoretical Nested Distance"
   ]
  },
  {
   "cell_type": "code",
   "execution_count": null,
   "metadata": {},
   "outputs": [],
   "source": [
    "a, b = np.zeros(dim), np.zeros(dim)\n",
    "distance_aw2 = adapted_wasserstein_squared(a, A, b, B, d, T)\n",
    "\n",
    "print(\"Adapted Wasserstein Squared Distance for custom Gaussian process:\", distance_aw2)"
   ]
  },
  {
   "cell_type": "markdown",
   "metadata": {},
   "source": [
    "## For d = 2"
   ]
  },
  {
   "cell_type": "code",
   "execution_count": null,
   "metadata": {},
   "outputs": [],
   "source": [
    "# Parameters\n",
    "d = 2\n",
    "T = 2\n",
    "dim = d * T\n",
    "n_sample_plot = 1200\n",
    "\n",
    "# Generate all noise samples at once\n",
    "noise1 = np.random.normal(size=(n_sample_plot, dim))\n",
    "noise2 = np.random.normal(size=(n_sample_plot, dim))\n",
    "\n",
    "# Apply transformations\n",
    "X_increments = (noise1 @ L.T).reshape(n_sample_plot, T, d)\n",
    "Y_increments = (noise2 @ M.T).reshape(n_sample_plot, T, d)\n",
    "\n",
    "# Prepend zeros along the time axis\n",
    "X_paths = np.concatenate([np.zeros((n_sample_plot, 1, d)), X_increments], axis=1)\n",
    "Y_paths = np.concatenate([np.zeros((n_sample_plot, 1, d)), Y_increments], axis=1)"
   ]
  },
  {
   "cell_type": "code",
   "execution_count": null,
   "metadata": {},
   "outputs": [],
   "source": [
    "# Adapt empirical measures\n",
    "adapted_X, adapted_weights_X = multidim_uniform_empirical_grid_measure(X_paths, use_weights=True)\n",
    "adapted_Y, adapted_weights_Y = multidim_uniform_empirical_grid_measure(Y_paths, use_weights=True)\n",
    "\n",
    "# Build trees\n",
    "adapted_tree_1 = multidim_build_tree_from_paths(adapted_X, adapted_weights_X)\n",
    "adapted_tree_2 = multidim_build_tree_from_paths(adapted_Y, adapted_weights_Y)\n",
    "\n",
    "# Compute nested distance\n",
    "max_depth = multidim_get_depth(adapted_tree_1)\n",
    "start_time = time.time()\n",
    "distance_pot = multidim_compute_nested_distance(adapted_tree_1, adapted_tree_2, max_depth, power=2)\n",
    "end_time = time.time()\n",
    "\n",
    "print(\"Nested distance multi dim:\", distance_pot)\n",
    "print(\"Computation time: {:.4f} seconds\".format(end_time - start_time))"
   ]
  },
  {
   "cell_type": "code",
   "execution_count": null,
   "metadata": {},
   "outputs": [],
   "source": [
    "# Adapt empirical measures\n",
    "adapted_X, adapted_weights_X = multidim_empirical_k_means_measure_new(X_paths, use_weights=True)\n",
    "adapted_Y, adapted_weights_Y = multidim_empirical_k_means_measure_new(Y_paths, use_weights=True)\n",
    "\n",
    "# Build trees\n",
    "adapted_tree_1 = multidim_build_tree_from_paths(adapted_X, adapted_weights_X)\n",
    "adapted_tree_2 = multidim_build_tree_from_paths(adapted_Y, adapted_weights_Y)\n",
    "\n",
    "# Compute nested distance\n",
    "max_depth = multidim_get_depth(adapted_tree_1)\n",
    "start_time = time.time()\n",
    "distance_pot = multidim_compute_nested_distance(adapted_tree_1, adapted_tree_2, max_depth, power=2)\n",
    "end_time = time.time()\n",
    "\n",
    "print(\"Nested distance multi dim:\", distance_pot)\n",
    "print(\"Computation time: {:.4f} seconds\".format(end_time - start_time))"
   ]
  },
  {
   "cell_type": "code",
   "execution_count": null,
   "metadata": {},
   "outputs": [],
   "source": [
    "a, b = np.zeros(dim), np.zeros(dim)\n",
    "distance_aw2 = adapted_wasserstein_squared(a, A, b, B, d, T)\n",
    "\n",
    "print(\"Adapted Wasserstein Squared Distance for custom Gaussian process:\", distance_aw2)"
   ]
  }
 ],
 "metadata": {
  "kernelspec": {
   "display_name": "Python 3",
   "language": "python",
   "name": "python3"
  },
  "language_info": {
   "codemirror_mode": {
    "name": "ipython",
    "version": 3
   },
   "file_extension": ".py",
   "mimetype": "text/x-python",
   "name": "python",
   "nbconvert_exporter": "python",
   "pygments_lexer": "ipython3",
   "version": "3.10.7"
  }
 },
 "nbformat": 4,
 "nbformat_minor": 2
}
