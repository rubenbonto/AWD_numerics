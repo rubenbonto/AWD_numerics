{
 "cells": [
  {
   "cell_type": "code",
   "execution_count": 1,
   "metadata": {},
   "outputs": [
    {
     "name": "stderr",
     "output_type": "stream",
     "text": [
      "2025-03-23 16:58:39,678\tINFO worker.py:1841 -- Started a local Ray instance.\n"
     ]
    }
   ],
   "source": [
    "import os\n",
    "import sys\n",
    "import numpy as np\n",
    "import time\n",
    "import warnings\n",
    "import random\n",
    "import matplotlib.pyplot as plt\n",
    "\n",
    "\n",
    "# Get the absolute path of src/ directory\n",
    "notebooks_path = os.path.abspath(os.getcwd())  # Get the notebook’s current directory\n",
    "src_path = os.path.abspath(os.path.join(notebooks_path, \"../src\"))\n",
    "\n",
    "# Ensure src is in sys.path\n",
    "if src_path not in sys.path:\n",
    "    sys.path.insert(0, src_path)  # Insert at the beginning to prioritize it\n",
    "\n",
    "    \n",
    "from multi_dimension.Multidimension_trees import *\n",
    "from multi_dimension.Multidimension_solver import *\n",
    "from multi_dimension.Multidimension_adapted_empirical_measure import *\n",
    "\n",
    "from measure_sampling.Gen_Path_and_AdaptedTrees import generate_adapted_tree\n",
    "from trees.tree_Node import *\n",
    "from trees.treeAnalysis import *\n",
    "from trees.treeVisualization import *\n",
    "from trees.save_Load_trees import *\n",
    "from trees.tree_AWD_utilities import *\n",
    "from trees.build_trees_from_paths import build_tree_from_paths\n",
    "\n",
    "from adapted_empirical_measure.AEM_grid import *\n",
    "from adapted_empirical_measure.AEM_kMeans import *\n",
    "from benchmark_value_gaussian.Comp_AWD2_Gaussian import *\n",
    "from awd_trees.Gurobi_AOT import *\n",
    "from awd_trees.Nested_Dist_Algo import compute_nested_distance, compute_nested_distance_parallel, compute_nested_distance_parallel_generic\n",
    "\n",
    "from optimal_code.utils import *\n",
    "from optimal_code.optimal_solver import *\n",
    "\n",
    "warnings.filterwarnings(\"ignore\", category=FutureWarning)\n",
    "warnings.filterwarnings(\"ignore\", category=UserWarning)"
   ]
  },
  {
   "cell_type": "code",
   "execution_count": 2,
   "metadata": {},
   "outputs": [],
   "source": [
    "random_seed = np.random.randint(100)\n",
    "random_seed = 0"
   ]
  },
  {
   "cell_type": "code",
   "execution_count": null,
   "metadata": {},
   "outputs": [
    {
     "name": "stdout",
     "output_type": "stream",
     "text": [
      "Theoretical AW_2^2:  30.0\n"
     ]
    }
   ],
   "source": [
    "n_sample = 1000\n",
    "T = 3\n",
    "\n",
    "L = np.array([[1, 0, 0], [2, 4, 0], [3, 2, 1]])\n",
    "X,A = Lmatrix2paths(L, n_sample, seed = random_seed, verbose = False)\n",
    "M = np.array([[1, 0, 0], [2, 3, 0], [3, 1, 2]])\n",
    "Y,B = Lmatrix2paths(M, n_sample, seed = random_seed, verbose = False)\n",
    "\n",
    "dist_bench = adapted_wasserstein_squared(A, B)\n",
    "print(\"Theoretical AW_2^2: \", dist_bench)\n",
    "\n",
    "adaptedX = path2adaptedpath(X, delta_n = 0.1)\n",
    "adaptedY = path2adaptedpath(Y, delta_n = 0.1)\n"
   ]
  },
  {
   "cell_type": "code",
   "execution_count": 10,
   "metadata": {},
   "outputs": [],
   "source": [
    "# Quantization map\n",
    "q2v = np.unique(np.concatenate([adaptedX, adaptedY], axis=0))\n",
    "v2q = {k: v for v, k in enumerate(q2v)}  # Value to Quantization\n",
    "\n",
    "# Quantized paths\n",
    "qX = np.array([[v2q[x] for x in y] for y in adaptedX])\n",
    "qY = np.array([[v2q[x] for x in y] for y in adaptedY])\n",
    "\n",
    "# Sort paths and transpose to (n_sample, T+1)\n",
    "qX = sort_qpath(qX.T)\n",
    "qY = sort_qpath(qY.T)\n",
    "\n",
    "# Get conditional distribution mu_{x_{1:t}} = mu_x[t][(x_1,...,x_t)] = {x_{t+1} : mu_{x_{1:t}}(x_{t+1}), ...}\n",
    "mu_x = qpath2mu_x(qX)\n",
    "nu_y = qpath2mu_x(qY)\n",
    "\n",
    "mu_x_c, mu_x_cn, mu_x_v, mu_x_w, mu_x_cumn = list_repr_mu_x(mu_x, q2v)\n",
    "nu_y_c, nu_y_cn, nu_y_v, nu_y_w, nu_y_cumn = list_repr_mu_x(nu_y, q2v)\n",
    "# All list except weights should be increasing! \n"
   ]
  },
  {
   "cell_type": "code",
   "execution_count": 8,
   "metadata": {},
   "outputs": [
    {
     "name": "stderr",
     "output_type": "stream",
     "text": [
      "100%|██████████| 150/150 [00:00<00:00, 151.54it/s]\n",
      "100%|██████████| 150/150 [00:01<00:00, 148.13it/s]\n",
      "100%|██████████| 150/150 [00:01<00:00, 136.99it/s]\n",
      "100%|██████████| 150/150 [00:01<00:00, 132.89it/s]\n",
      "100%|██████████| 150/150 [00:01<00:00, 125.54it/s]\n",
      "100%|██████████| 150/150 [00:01<00:00, 116.35it/s]\n",
      "100%|██████████| 57/57 [00:00<00:00, 93.24it/s] \n",
      "100%|██████████| 1/1 [00:00<00:00, 1078.78it/s]\n"
     ]
    },
    {
     "name": "stdout",
     "output_type": "stream",
     "text": [
      "Elapsed time (Adapted OT): 44.6108 seconds\n",
      "Numerical AW_2^2:  3.0517166666666666\n"
     ]
    }
   ],
   "source": [
    "start_time = time.perf_counter()\n",
    "AW_2square = nested2_parallel(mu_x_cn, mu_x_v, mu_x_w, mu_x_cumn, nu_y_cn, nu_y_v, nu_y_w, nu_y_cumn, n_processes = 6)\n",
    "end_time = time.perf_counter()\n",
    "print(\"Elapsed time (Adapted OT): {:.4f} seconds\".format(end_time - start_time))\n",
    "print(\"Numerical AW_2^2: \", AW_2square)"
   ]
  },
  {
   "cell_type": "code",
   "execution_count": 9,
   "metadata": {},
   "outputs": [
    {
     "name": "stdout",
     "output_type": "stream",
     "text": [
      "Depth: 2\n"
     ]
    },
    {
     "data": {
      "application/vnd.jupyter.widget-view+json": {
       "model_id": "715f301d86ef48dfb1627b50e66f9aa5",
       "version_major": 2,
       "version_minor": 0
      },
      "text/plain": [
       "Parallel Depth 2:   0%|          | 0/6 [00:00<?, ?it/s]"
      ]
     },
     "metadata": {},
     "output_type": "display_data"
    },
    {
     "name": "stderr",
     "output_type": "stream",
     "text": [
      "2025-03-23 17:01:09,133\tINFO worker.py:1841 -- Started a local Ray instance.\n",
      "2025-03-23 17:01:09,157\tINFO worker.py:1841 -- Started a local Ray instance.\n",
      "2025-03-23 17:01:09,268\tINFO worker.py:1841 -- Started a local Ray instance.\n",
      "2025-03-23 17:01:09,390\tINFO worker.py:1841 -- Started a local Ray instance.\n",
      "2025-03-23 17:01:09,873\tINFO worker.py:1841 -- Started a local Ray instance.\n",
      "2025-03-23 17:01:10,144\tINFO worker.py:1841 -- Started a local Ray instance.\n"
     ]
    },
    {
     "name": "stdout",
     "output_type": "stream",
     "text": [
      "Depth: 1\n",
      "Depth: 0\n"
     ]
    }
   ],
   "source": [
    "adapted_X, adapted_weights_X = uniform_empirical_grid_measure(X.T, delta_n = 0.1, use_weights=True)\n",
    "adapted_Y, adapted_weights_Y = uniform_empirical_grid_measure(Y.T, delta_n = 0.1, use_weights=True)\n",
    "# Build trees from the adapted paths\n",
    "tree_1 = build_tree_from_paths(adapted_X, adapted_weights_X)\n",
    "tree_2 = build_tree_from_paths(adapted_Y, adapted_weights_Y)\n",
    "# Compute nested distance and record timing\n",
    "max_depth = get_depth(tree_1)\n",
    "start_time = time.time()\n",
    "distance_pot = compute_nested_distance_parallel(\n",
    "    tree_1, tree_2, max_depth, power=2, num_chunks=6\n",
    ")\n",
    "elapsed_time = time.time() - start_time"
   ]
  },
  {
   "cell_type": "code",
   "execution_count": null,
   "metadata": {},
   "outputs": [
    {
     "name": "stdout",
     "output_type": "stream",
     "text": [
      "2.5179\n",
      "1.8190641403198242\n"
     ]
    }
   ],
   "source": [
    "print(distance_pot)\n",
    "print(elapsed_time)"
   ]
  },
  {
   "cell_type": "code",
   "execution_count": null,
   "metadata": {},
   "outputs": [],
   "source": []
  }
 ],
 "metadata": {
  "kernelspec": {
   "display_name": "Python 3",
   "language": "python",
   "name": "python3"
  },
  "language_info": {
   "codemirror_mode": {
    "name": "ipython",
    "version": 3
   },
   "file_extension": ".py",
   "mimetype": "text/x-python",
   "name": "python",
   "nbconvert_exporter": "python",
   "pygments_lexer": "ipython3",
   "version": "3.10.7"
  }
 },
 "nbformat": 4,
 "nbformat_minor": 2
}
