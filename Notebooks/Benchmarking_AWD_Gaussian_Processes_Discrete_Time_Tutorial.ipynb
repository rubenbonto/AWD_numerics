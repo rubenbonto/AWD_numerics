{
 "cells": [
  {
   "cell_type": "markdown",
   "metadata": {},
   "source": [
    "# Adapted Wasserstein Distance between Gaussian Processes in Discrete Time\n",
    "\n",
    "This notebook demonstrates how to compute the Adapted Wasserstein squared distance between two Gaussian processes. The computed distance serves as a benchmark for approximations in future studies.\n",
    "\n",
    "The adapted distance is based on:\n",
    "- \"Adapted optimal transport between Gaussian processes in discrete time\" by Madhu Gunasingam and Ting-Kam Leonard Wong (2025).  \n",
    "Reference: https://arxiv.org/abs/2404.06625\n",
    "\n",
    "- For the multidimensional generalization, see \"Entropic adapted Wasserstein distance on Gaussians\" by Beatrice Acciaio, Songyan Hou, Gudmund Pammer.  \n",
    "Reference: https://arxiv.org/abs/2412.18794\n"
   ]
  },
  {
   "cell_type": "code",
   "execution_count": 1,
   "metadata": {},
   "outputs": [],
   "source": [
    "import sys\n",
    "import os\n",
    "import matplotlib.pyplot as plt\n",
    "import numpy as np\n",
    "\n",
    "notebooks_path = os.path.abspath(os.getcwd()) \n",
    "src_path = os.path.abspath(os.path.join(notebooks_path, \"../src\"))\n",
    "\n",
    "if src_path not in sys.path:\n",
    "    sys.path.insert(0, src_path)\n",
    "\n",
    "from benchmark_value_gaussian.Comp_AWD2_Gaussian import *"
   ]
  },
  {
   "cell_type": "markdown",
   "metadata": {},
   "source": [
    "## Discrete-Time Brownian Motion for $d = 1$\n",
    "\n",
    "In the one-dimensional case, we assume a process where:\n",
    "- $x_0 = a$ and $x_{t+1} = x_t + \\gamma_t$ with $\\gamma_t \\sim \\mathcal{N}(0, \\text{var}_a)$,\n",
    "- $y_0 = b$ and $y_{t+1} = y_t + \\delta_t$ with $\\delta_t \\sim \\mathcal{N}(0, \\text{var}_b)$.\n"
   ]
  },
  {
   "cell_type": "code",
   "execution_count": 2,
   "metadata": {},
   "outputs": [
    {
     "name": "stdout",
     "output_type": "stream",
     "text": [
      "Mean vector for process 1: [1 1 1 1 1]\n",
      "Covariance matrix for process 2:\n",
      " [[0.25 0.25 0.25 0.25 0.25]\n",
      " [0.25 0.5  0.5  0.5  0.5 ]\n",
      " [0.25 0.5  0.75 0.75 0.75]\n",
      " [0.25 0.5  0.75 1.   1.  ]\n",
      " [0.25 0.5  0.75 1.   1.25]]\n",
      "Adapted Wasserstein Squared Distance (d=1): 8.7500\n",
      "Adapted Wasserstein Distance (d=1): 2.9580\n"
     ]
    }
   ],
   "source": [
    "# Parameters\n",
    "a, b = 1, 2\n",
    "var_a, var_b = 1**2, 0.5**2\n",
    "t = 5\n",
    "\n",
    "# Build mean and covariance matrices for both processes\n",
    "a_vec, A_mat = build_mean_and_cov(t, mean_val=a, var_factor=var_a)\n",
    "b_vec, B_mat = build_mean_and_cov(t, mean_val=b, var_factor=var_b)\n",
    "\n",
    "print(\"Mean vector for process 1:\", a_vec)\n",
    "print(\"Covariance matrix for process 2:\\n\", B_mat)\n",
    "\n",
    "# Compute adapted Wasserstein squared distance (one-dimensional)\n",
    "distance_squared = adapted_wasserstein_squared_1d(A_mat, B_mat, a_vec, b_vec)\n",
    "distance = np.sqrt(distance_squared)\n",
    "\n",
    "print(f\"Adapted Wasserstein Squared Distance (d=1): {distance_squared:.4f}\")\n",
    "print(f\"Adapted Wasserstein Distance (d=1): {distance:.4f}\")"
   ]
  },
  {
   "cell_type": "markdown",
   "metadata": {},
   "source": [
    "## Discrete-Time Brownian Motion for $d > 1$\n",
    "\n",
    "For the multidimensional case, we consider a process in $\\mathbb{R}^{dT}$. The full covariance matrices are built using a block structure, where each block $(i, j)$ is defined as:\n",
    "\n",
    "$$\n",
    "\\text{Block}(i, j) = \\min(i+1, j+1) \\times (\\text{var} \\times I_d)\n",
    "$$"
   ]
  },
  {
   "cell_type": "code",
   "execution_count": 4,
   "metadata": {},
   "outputs": [
    {
     "name": "stdout",
     "output_type": "stream",
     "text": [
      "Theoretical Adapted Wasserstein Squared Distance (d > 1): 27.0\n"
     ]
    }
   ],
   "source": [
    "# Parameters\n",
    "d = 3\n",
    "T = 3\n",
    "\n",
    "dim = d * T\n",
    "a = np.ones(dim) * 1\n",
    "b = np.ones(dim) * 2\n",
    "\n",
    "A = build_full_covariance(1.1**2, d, T)\n",
    "B = build_full_covariance(0.1**2, d, T)\n",
    "\n",
    "distance_aw2 = adapted_wasserstein_squared_multidim(A, B, d, T, a, b)\n",
    "\n",
    "print(\"Theoretical Adapted Wasserstein Squared Distance (d > 1):\", distance_aw2)"
   ]
  },
  {
   "cell_type": "markdown",
   "metadata": {},
   "source": [
    "# Non–Brownian Gaussian Process Example\n",
    "\n",
    "For this example, we define two factor matrices $L_0$ and $M_0$ (both of size $6 \\times 6$ corresponding to $d=2$ and $T=3$, so that the total dimension is $dT=6$). From these matrices, we compute:\n",
    "  \n",
    "- $A_0 = L_0 L_0^T$ and $B_0 = M_0 M_0^T$\n",
    "- The covariance matrices are then given by $A = L L^T$ and $B = M M^T$.\n",
    "\n",
    "We assume zero mean for both processes."
   ]
  },
  {
   "cell_type": "code",
   "execution_count": 5,
   "metadata": {},
   "outputs": [
    {
     "name": "stdout",
     "output_type": "stream",
     "text": [
      "Adapted Wasserstein Squared Distance for custom Gaussian process: 171.61705298017796\n"
     ]
    }
   ],
   "source": [
    "normalize = False\n",
    "\n",
    "L0 = np.array([\n",
    "    [1, 0, 0, 0, 0, 0],\n",
    "    [1, 2, 0, 0, 0, 0],\n",
    "    [1, 2, 3, 0, 0, 0],\n",
    "    [7, 5, 4, 9, 0, 0],\n",
    "    [6, 2, 9, 14, 16, 0],\n",
    "    [-4, 6, -5, 1, 2, 9]\n",
    "])\n",
    "A0 = L0 @ L0.T\n",
    "L = L0 / np.sqrt(np.trace(A0)) if normalize else L0\n",
    "A = L @ L.T\n",
    "\n",
    "M0 = np.array([\n",
    "    [2, 0, 0, 0, 0, 0],\n",
    "    [3, 1, 0, 0, 0, 0],\n",
    "    [1, 4, 2, 0, 0, 0],\n",
    "    [8, 5, 3, 7, 0, 0],\n",
    "    [4, 3, 6, 10, 12, 0],\n",
    "    [0, -1, 2, 4, 3, 8]\n",
    "])\n",
    "B0 = M0 @ M0.T\n",
    "M = M0 / np.sqrt(np.trace(B0)) if normalize else M0\n",
    "B = M @ M.T\n",
    "\n",
    "d = 2\n",
    "T = 3\n",
    "\n",
    "dim = d * T\n",
    "a = np.zeros(dim)\n",
    "b = np.zeros(dim)\n",
    "\n",
    "distance_aw2 = adapted_wasserstein_squared_multidim(A, B, d, T)\n",
    "\n",
    "print(\"Adapted Wasserstein Squared Distance for custom Gaussian process:\", distance_aw2)"
   ]
  }
 ],
 "metadata": {
  "kernelspec": {
   "display_name": "Python 3",
   "language": "python",
   "name": "python3"
  },
  "language_info": {
   "codemirror_mode": {
    "name": "ipython",
    "version": 3
   },
   "file_extension": ".py",
   "mimetype": "text/x-python",
   "name": "python",
   "nbconvert_exporter": "python",
   "pygments_lexer": "ipython3",
   "version": "3.10.7"
  }
 },
 "nbformat": 4,
 "nbformat_minor": 2
}
