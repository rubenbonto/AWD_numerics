{
 "cells": [
  {
   "cell_type": "code",
   "execution_count": 7,
   "metadata": {},
   "outputs": [],
   "source": [
    "import os\n",
    "import sys\n",
    "import numpy as np\n",
    "import time\n",
    "import warnings\n",
    "import random\n",
    "\n",
    "# Define paths\n",
    "notebooks_path = os.path.abspath(os.getcwd()) \n",
    "src_path = os.path.abspath(os.path.join(notebooks_path, \"../src\"))\n",
    "if src_path not in sys.path:\n",
    "    sys.path.insert(0, src_path)\n",
    "\n",
    "# Import modules\n",
    "from multi_dimension.Multidimension_trees import *\n",
    "from multi_dimension.Multidimension_solver import *\n",
    "from multi_dimension.Multidimension_adapted_empirical_measure import *\n",
    "\n",
    "from measure_sampling.Gen_Path_and_AdaptedTrees import generate_adapted_tree\n",
    "from trees.Tree_Node import *\n",
    "from trees.TreeAnalysis import *\n",
    "from trees.TreeVisualization import *\n",
    "from trees.Save_Load_trees import *\n",
    "from trees.Tree_AWD_utilities import *\n",
    "from trees.Build_trees_from_paths import build_tree_from_paths\n",
    "\n",
    "from adapted_empirical_measure.AEM_grid import *\n",
    "from adapted_empirical_measure.AEM_kMeans import *\n",
    "from benchmark_value_gaussian.Comp_AWD2_Gaussian import *\n",
    "from awd_trees.Gurobi_AOT import *\n",
    "from awd_trees.Nested_Dist_Algo import compute_nested_distance, compute_nested_distance_parallel, compute_nested_distance_parallel_generic\n",
    "\n",
    "# Suppress warnings\n",
    "warnings.filterwarnings(\"ignore\", category=FutureWarning)\n",
    "warnings.filterwarnings(\"ignore\", category=UserWarning)\n",
    "\n",
    "# Import custom modules from src\n",
    "from utils_solver import Lmatrix2paths, adapted_empirical_measure, adapted_wasserstein_squared, quantization, nested, plot_V"
   ]
  },
  {
   "cell_type": "code",
   "execution_count": 8,
   "metadata": {},
   "outputs": [
    {
     "name": "stdout",
     "output_type": "stream",
     "text": [
      "Random seed for this run: 44\n"
     ]
    }
   ],
   "source": [
    "# Set random seeds for reproducibility\n",
    "np.random.seed(0)\n",
    "random.seed(0)\n",
    "verbose = False\n",
    "\n",
    "# Create a random seed variable for additional randomness in the notebook\n",
    "random_seed = np.random.randint(100)\n",
    "print(\"Random seed for this run:\", random_seed)"
   ]
  },
  {
   "cell_type": "markdown",
   "metadata": {},
   "source": [
    "## Generating Path (same randomness)"
   ]
  },
  {
   "cell_type": "code",
   "execution_count": 9,
   "metadata": {},
   "outputs": [
    {
     "name": "stdout",
     "output_type": "stream",
     "text": [
      "mu\n",
      "Cholesky:\n",
      "[[1 0 0 0]\n",
      " [1 2 0 0]\n",
      " [1 2 3 0]\n",
      " [1 2 3 4]]\n",
      "Covariance:\n",
      "[[ 1  1  1  1]\n",
      " [ 1  5  5  5]\n",
      " [ 1  5 14 14]\n",
      " [ 1  5 14 30]]\n",
      "nu\n",
      "Cholesky:\n",
      "[[1 0 0 0]\n",
      " [2 1 0 0]\n",
      " [3 2 1 0]\n",
      " [4 3 2 1]]\n",
      "Covariance:\n",
      "[[ 1  2  3  4]\n",
      " [ 2  5  8 11]\n",
      " [ 3  8 14 20]\n",
      " [ 4 11 20 30]]\n"
     ]
    }
   ],
   "source": [
    "n_sample = 2000\n",
    "\n",
    "\n",
    "# For measure \"mu\"\n",
    "print(\"mu\")\n",
    "L = np.array([[1, 0, 0, 0], [1, 2, 0, 0], [1, 2, 3, 0], [1,2,3, 4]])\n",
    "normalize = False  # Not used explicitly here\n",
    "X, A = Lmatrix2paths(L, n_sample, seed=random_seed)\n",
    "\n",
    "# For measure \"nu\"\n",
    "print(\"nu\")\n",
    "M = np.array([[1, 0, 0, 0], [2, 1, 0, 0], [3, 2, 1, 0], [4, 3, 2, 1]])\n",
    "Y, B = Lmatrix2paths(M, n_sample, seed=random_seed)"
   ]
  },
  {
   "cell_type": "markdown",
   "metadata": {},
   "source": [
    "## Real distance (not particularly relevant here, as we are comparing speed rather than convergence). \n",
    "\n",
    "### What matters here is that the three methods produce the same output, as they should each solve the discrete AOT problem exactly."
   ]
  },
  {
   "cell_type": "code",
   "execution_count": 10,
   "metadata": {},
   "outputs": [
    {
     "name": "stdout",
     "output_type": "stream",
     "text": [
      "Theoretical AW_2^2:  30.0\n"
     ]
    }
   ],
   "source": [
    "dist_bench = adapted_wasserstein_squared(A, B)\n",
    "print(\"Theoretical AW_2^2: \", dist_bench)"
   ]
  },
  {
   "cell_type": "markdown",
   "metadata": {},
   "source": [
    "## With your code"
   ]
  },
  {
   "cell_type": "code",
   "execution_count": 7,
   "metadata": {},
   "outputs": [
    {
     "name": "stdout",
     "output_type": "stream",
     "text": [
      "Quantization ......\n",
      "Number of distinct values in global quantization:  313\n",
      "Number of condition subpaths of mu_x\n",
      "Time 0: 1\n",
      "Time 1: 64\n",
      "Time 2: 1402\n",
      "Time 3: 1993\n",
      "Number of condition subpaths of nu_y\n",
      "Time 0: 1\n",
      "Time 1: 64\n",
      "Time 2: 1078\n",
      "Time 3: 1953\n",
      "Nested backward induction .......\n"
     ]
    },
    {
     "name": "stderr",
     "output_type": "stream",
     "text": [
      "Timestep 3: 100%|██████████| 1993/1993 [20:58<00:00,  1.58it/s]\n",
      "Timestep 2: 100%|██████████| 1402/1402 [09:39<00:00,  2.42it/s]\n",
      "Timestep 1: 100%|██████████| 64/64 [00:02<00:00, 25.07it/s]\n",
      "Timestep 0: 100%|██████████| 1/1 [00:00<00:00, 224.07it/s]"
     ]
    },
    {
     "name": "stdout",
     "output_type": "stream",
     "text": [
      "Theoretical AW_2^2:  30.0\n",
      "Numerical AW_2^2:  28.437871180096256\n",
      "Elapsed time (Adapted OT): 1841.0000 seconds\n"
     ]
    },
    {
     "name": "stderr",
     "output_type": "stream",
     "text": [
      "\n"
     ]
    }
   ],
   "source": [
    "# Grid projection of k-mean projection\n",
    "adaptedX = adapted_empirical_measure(X, delta_n = 0.1)\n",
    "adaptedY = adapted_empirical_measure(Y, delta_n = 0.1)\n",
    "\n",
    "q2v, v2q, mu_x, nu_y, q2v_x, v2q_x, q2v_y, v2q_y = quantization(adaptedX, adaptedY, markovian=False)\n",
    "\n",
    "start_time = time.time()\n",
    "AW_2square, V = nested(mu_x, nu_y, v2q_x, v2q_y, q2v, markovian=False)\n",
    "elapsed_time_pot = time.time() - start_time\n",
    "\n",
    "dist_bench = adapted_wasserstein_squared(A, B)\n",
    "print(\"Theoretical AW_2^2: \", dist_bench)\n",
    "print(\"Numerical AW_2^2: \", AW_2square)\n",
    "print(\"Elapsed time (Adapted OT): {:.4f} seconds\".format(elapsed_time_pot))"
   ]
  },
  {
   "cell_type": "code",
   "execution_count": null,
   "metadata": {},
   "outputs": [
    {
     "name": "stdout",
     "output_type": "stream",
     "text": [
      "Quantization ......\n",
      "Number of distinct values in global quantization:  313\n",
      "Number of condition subpaths of mu_x\n",
      "Time 0: 1\n",
      "Time 1: 64\n",
      "Time 2: 1402\n",
      "Time 3: 1993\n",
      "Number of condition subpaths of nu_y\n",
      "Time 0: 1\n",
      "Time 1: 64\n",
      "Time 2: 1078\n",
      "Time 3: 1953\n",
      "Parallel nested backward induction ...\n",
      "Time step 3\n"
     ]
    },
    {
     "data": {
      "application/vnd.jupyter.widget-view+json": {
       "model_id": "f6f29ed604bd4c12a3defebda06c7589",
       "version_major": 2,
       "version_minor": 0
      },
      "text/plain": [
       "Time step 3 chunks:   0%|          | 0/12 [00:00<?, ?it/s]"
      ]
     },
     "metadata": {},
     "output_type": "display_data"
    },
    {
     "name": "stdout",
     "output_type": "stream",
     "text": [
      "Time step 2\n"
     ]
    },
    {
     "data": {
      "application/vnd.jupyter.widget-view+json": {
       "model_id": "dd35fa3ba9744f9798d7ae98e0552bea",
       "version_major": 2,
       "version_minor": 0
      },
      "text/plain": [
       "Time step 2 chunks:   0%|          | 0/12 [00:00<?, ?it/s]"
      ]
     },
     "metadata": {},
     "output_type": "display_data"
    },
    {
     "name": "stdout",
     "output_type": "stream",
     "text": [
      "Time step 1\n"
     ]
    },
    {
     "data": {
      "application/vnd.jupyter.widget-view+json": {
       "model_id": "95be923c8d774a0699fe62fe04d09158",
       "version_major": 2,
       "version_minor": 0
      },
      "text/plain": [
       "Time step 1 chunks:   0%|          | 0/12 [00:00<?, ?it/s]"
      ]
     },
     "metadata": {},
     "output_type": "display_data"
    },
    {
     "name": "stdout",
     "output_type": "stream",
     "text": [
      "Time step 0\n"
     ]
    },
    {
     "data": {
      "application/vnd.jupyter.widget-view+json": {
       "model_id": "65b073e54d40410088ed31c81d4476f6",
       "version_major": 2,
       "version_minor": 0
      },
      "text/plain": [
       "Time step 0 chunks:   0%|          | 0/1 [00:00<?, ?it/s]"
      ]
     },
     "metadata": {},
     "output_type": "display_data"
    },
    {
     "name": "stdout",
     "output_type": "stream",
     "text": [
      "Numerical AW_2^2:  (28.437871180096256, [array([[28.43787118]]), array([[  21.36337436,   81.0715641 ,   85.88338998, ...,  176.11405128,\n",
      "         652.45107692,  803.262     ],\n",
      "       [  56.43521624,   39.41566667,   42.16403747, ...,  269.00633333,\n",
      "         820.81566667,  632.23566667],\n",
      "       [  70.42185188,   34.50110078,   36.53251938, ...,  298.75130233,\n",
      "         875.42511628,  599.57139535],\n",
      "       ...,\n",
      "       [  44.11692308,  213.91283333,  217.66767442, ...,   69.352     ,\n",
      "         453.404     , 1131.666     ],\n",
      "       [  89.06969231,  372.70866667,  380.92209302, ...,   48.398     ,\n",
      "         228.83      , 1427.7       ],\n",
      "       [ 446.34984615,  109.16266667,  104.91348837, ...,  910.424     ,\n",
      "        1766.8       ,  110.85      ]]), array([[ 28.305,  24.245,  54.585, ...,  29.915, 160.785, 132.675],\n",
      "       [ 18.13 ,  44.21 ,  87.68 , ...,  12.25 , 113.49 , 196.33 ],\n",
      "       [ 31.45 ,  37.21 ,  73.8  , ...,  24.17 , 145.37 , 174.73 ],\n",
      "       ...,\n",
      "       [115.25 ,  16.21 ,  10.4  , ..., 123.37 , 347.57 ,  26.33 ],\n",
      "       [103.13 , 323.01 , 436.18 , ...,  97.25 ,   8.09 , 645.13 ],\n",
      "       [ 29.25 , 180.05 , 266.92 , ...,  28.13 ,   6.85 , 430.61 ]]), array([[1.7640e+01, 2.5600e+00, 1.5210e+01, ..., 4.4100e+00, 1.4161e+02,\n",
      "        1.3689e+02],\n",
      "       [4.9000e-01, 4.2250e+01, 7.7440e+01, ..., 7.8400e+00, 4.9000e+01,\n",
      "        4.6240e+01],\n",
      "       [9.0000e-02, 3.7210e+01, 7.0560e+01, ..., 5.7600e+00, 5.4760e+01,\n",
      "        5.1840e+01],\n",
      "       ...,\n",
      "       [2.5600e+00, 1.7640e+01, 4.2250e+01, ..., 2.5000e-01, 8.6490e+01,\n",
      "        8.2810e+01],\n",
      "       [8.4640e+01, 2.2500e+02, 2.9929e+02, ..., 1.2769e+02, 2.2500e+00,\n",
      "        2.8900e+00],\n",
      "       [2.0250e+01, 1.0609e+02, 1.5876e+02, ..., 4.3560e+01, 1.0240e+01,\n",
      "        9.0000e+00]])])\n",
      "Elapsed time (Adapted OT): 379.5200 seconds\n"
     ]
    }
   ],
   "source": [
    "# Grid projection of k-mean projection\n",
    "adaptedX = adapted_empirical_measure(X, delta_n = 0.1)\n",
    "adaptedY = adapted_empirical_measure(Y, delta_n = 0.1)\n",
    "\n",
    "q2v, v2q, mu_x, nu_y, q2v_x, v2q_x, q2v_y, v2q_y = quantization(adaptedX, adaptedY, markovian=False)\n",
    "\n",
    "\n",
    "start_time = time.time()\n",
    "AW_2square = compute_nested_distance_parallel_generic(mu_x, nu_y, v2q_x, v2q_y, q2v, markovian=False, num_chunks=12)\n",
    "elapsed_time_pot = time.time() - start_time\n",
    "print(\"Numerical AW_2^2: \", AW_2square[0])\n",
    "print(\"Elapsed time (Adapted OT): {:.4f} seconds\".format(elapsed_time_pot))"
   ]
  },
  {
   "cell_type": "markdown",
   "metadata": {},
   "source": [
    "## With my code not-parallel"
   ]
  },
  {
   "cell_type": "code",
   "execution_count": 11,
   "metadata": {},
   "outputs": [],
   "source": [
    "# Compute uniform adapted empirical grid measures with weights\n",
    "adapted_X, adapted_weights_X = uniform_empirical_grid_measure(X.T, delta_n=0.1, use_weights=True)\n",
    "adapted_Y, adapted_weights_Y = uniform_empirical_grid_measure(Y.T, delta_n=0.1, use_weights=True)\n",
    "\n",
    "# Build trees from the adapted paths\n",
    "adapted_tree_1 = build_tree_from_paths(adapted_X, adapted_weights_X)\n",
    "adapted_tree_2 = build_tree_from_paths(adapted_Y, adapted_weights_Y)"
   ]
  },
  {
   "cell_type": "code",
   "execution_count": 8,
   "metadata": {},
   "outputs": [
    {
     "data": {
      "application/vnd.jupyter.widget-view+json": {
       "model_id": "c398b04f3637457ab60b29a70387ed50",
       "version_major": 2,
       "version_minor": 0
      },
      "text/plain": [
       "Depth 3:   0%|          | 0/1993 [00:00<?, ?it/s]"
      ]
     },
     "metadata": {},
     "output_type": "display_data"
    },
    {
     "data": {
      "application/vnd.jupyter.widget-view+json": {
       "model_id": "39053f08e9124cabba77ee384c129038",
       "version_major": 2,
       "version_minor": 0
      },
      "text/plain": [
       "Depth 2:   0%|          | 0/1402 [00:00<?, ?it/s]"
      ]
     },
     "metadata": {},
     "output_type": "display_data"
    },
    {
     "data": {
      "application/vnd.jupyter.widget-view+json": {
       "model_id": "b33a92ce439d49cb923c53accc14caa6",
       "version_major": 2,
       "version_minor": 0
      },
      "text/plain": [
       "Depth 1:   0%|          | 0/64 [00:00<?, ?it/s]"
      ]
     },
     "metadata": {},
     "output_type": "display_data"
    },
    {
     "data": {
      "application/vnd.jupyter.widget-view+json": {
       "model_id": "fb4580015f894373813724a6c60eeae2",
       "version_major": 2,
       "version_minor": 0
      },
      "text/plain": [
       "Depth 0:   0%|          | 0/1 [00:00<?, ?it/s]"
      ]
     },
     "metadata": {},
     "output_type": "display_data"
    },
    {
     "name": "stdout",
     "output_type": "stream",
     "text": [
      "Numerical AW_2^2 (Adapted OT): 28.437871180096263\n",
      "Elapsed time (Adapted OT): 1261.4019 seconds\n"
     ]
    }
   ],
   "source": [
    "# Compute the nested (adapted optimal transport) distance and measure execution time\n",
    "max_depth = get_depth(adapted_tree_1)\n",
    "start_time = time.time()\n",
    "distance_pot = compute_nested_distance(\n",
    "    adapted_tree_1,\n",
    "    adapted_tree_2,\n",
    "    max_depth,\n",
    "    method=\"solver_lp_pot\",\n",
    "    return_matrix=False,\n",
    "    lambda_reg=0,\n",
    "    power=2,\n",
    ")\n",
    "elapsed_time_pot = time.time() - start_time\n",
    "\n",
    "print(\"Numerical AW_2^2 (Adapted OT):\", distance_pot)\n",
    "print(\"Elapsed time (Adapted OT): {:.4f} seconds\".format(elapsed_time_pot))"
   ]
  },
  {
   "cell_type": "markdown",
   "metadata": {},
   "source": [
    "## My code parallel"
   ]
  },
  {
   "cell_type": "code",
   "execution_count": 12,
   "metadata": {},
   "outputs": [
    {
     "name": "stdout",
     "output_type": "stream",
     "text": [
      "Depth: 3\n"
     ]
    },
    {
     "data": {
      "application/vnd.jupyter.widget-view+json": {
       "model_id": "36d8c6d2f60b4779aa4fc47661da8d0f",
       "version_major": 2,
       "version_minor": 0
      },
      "text/plain": [
       "Parallel Depth 3:   0%|          | 0/12 [00:00<?, ?it/s]"
      ]
     },
     "metadata": {},
     "output_type": "display_data"
    },
    {
     "name": "stdout",
     "output_type": "stream",
     "text": [
      "Depth: 2\n"
     ]
    },
    {
     "data": {
      "application/vnd.jupyter.widget-view+json": {
       "model_id": "06c106b4b475484cb90864a5c620ea93",
       "version_major": 2,
       "version_minor": 0
      },
      "text/plain": [
       "Parallel Depth 2:   0%|          | 0/12 [00:00<?, ?it/s]"
      ]
     },
     "metadata": {},
     "output_type": "display_data"
    },
    {
     "name": "stdout",
     "output_type": "stream",
     "text": [
      "Depth: 1\n",
      "Depth: 0\n",
      "Nested distance Parellel: 28.43787118009626\n",
      "Computation time Parellel: 107.3813 seconds\n"
     ]
    }
   ],
   "source": [
    "# Compute nested distance\n",
    "max_depth_val = get_depth(adapted_tree_1)\n",
    "start_time = time.time()\n",
    "distance_pot = compute_nested_distance_parallel(adapted_tree_1, adapted_tree_2, max_depth_val, power=2, num_chunks= 12)\n",
    "elapsed_time_pot = time.time() - start_time\n",
    "\n",
    "print(\"Nested distance Parellel:\", distance_pot)\n",
    "print(\"Computation time Parellel: {:.4f} seconds\".format(elapsed_time_pot))"
   ]
  }
 ],
 "metadata": {
  "kernelspec": {
   "display_name": "Python 3",
   "language": "python",
   "name": "python3"
  },
  "language_info": {
   "codemirror_mode": {
    "name": "ipython",
    "version": 3
   },
   "file_extension": ".py",
   "mimetype": "text/x-python",
   "name": "python",
   "nbconvert_exporter": "python",
   "pygments_lexer": "ipython3",
   "version": "3.10.7"
  }
 },
 "nbformat": 4,
 "nbformat_minor": 2
}
